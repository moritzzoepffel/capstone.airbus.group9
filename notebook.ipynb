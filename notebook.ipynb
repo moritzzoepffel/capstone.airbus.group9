version https://git-lfs.github.com/spec/v1
oid sha256:99371a878d09b9935a233ee436226fb1155accc598b9d13c4ee7ae2602545653
size 128371224
