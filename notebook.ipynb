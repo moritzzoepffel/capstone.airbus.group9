version https://git-lfs.github.com/spec/v1
oid sha256:4ce45bf05483070c8482a4b3b08b669ff415fe0f88bbcec794bac0d5ca9d395b
size 17267903
