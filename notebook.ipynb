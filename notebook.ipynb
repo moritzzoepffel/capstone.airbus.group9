version https://git-lfs.github.com/spec/v1
oid sha256:da67b492548bdabc9ea2c70213808a2ee0f49c87531535b645c3d1f005674510
size 125576925
